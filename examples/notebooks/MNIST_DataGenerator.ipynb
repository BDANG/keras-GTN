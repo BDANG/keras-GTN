{
 "cells": [
  {
   "cell_type": "code",
   "execution_count": 1,
   "metadata": {},
   "outputs": [],
   "source": [
    "from tensorflow.keras.datasets import mnist\n",
    "from tensorflow.keras.utils import Sequence\n",
    "from tensorflow.keras.utils import to_categorical\n",
    "import numpy as np"
   ]
  },
  {
   "cell_type": "code",
   "execution_count": 2,
   "metadata": {},
   "outputs": [
    {
     "name": "stdout",
     "output_type": "stream",
     "text": [
      "(60000, 28, 28)\n",
      "(60000,)\n",
      "(10000, 28, 28)\n",
      "(10000,)\n"
     ]
    }
   ],
   "source": [
    "(x_train, y_train), (x_test, y_test) = mnist.load_data()\n",
    "\n",
    "print(x_train.shape)\n",
    "print(y_train.shape)\n",
    "print(x_test.shape)\n",
    "print(y_test.shape)"
   ]
  },
  {
   "cell_type": "code",
   "execution_count": 26,
   "metadata": {},
   "outputs": [],
   "source": [
    "class MNISTDataGenerator(Sequence):\n",
    "    def __init__(self, batch_size=16, n_classes=10, noise_shape=(100,), shuffle=False):\n",
    "        self.batch_size = batch_size\n",
    "        self.n_classes = n_classes\n",
    "        self.noise_shape = noise_shape\n",
    "        self.shuffle = shuffle\n",
    "        \n",
    "        (x_train, y_train), (x_test, y_test) = mnist.load_data()\n",
    "        \n",
    "        # use small datset for the sake of development\n",
    "        x_train = x_train[:1000, :, :]\n",
    "        y_train = y_train[:1000]\n",
    "\n",
    "        self.x_train = x_train\n",
    "        self.y_train = to_categorical(y_train, num_classes=self.n_classes)\n",
    "        \n",
    "        # toggle whether datagenerator should return noise only\n",
    "        self.noise_only = True\n",
    "        \n",
    "        self.on_epoch_end()\n",
    "\n",
    "        \n",
    "\n",
    "    def __len__(self):\n",
    "        'Denotes the number of batches per epoch'\n",
    "        return int(self.x_train.shape[0] // self.batch_size)\n",
    "\n",
    "\n",
    "    def __getitem__(self, index):\n",
    "        \"\"\"\n",
    "        Generate one batch of data\n",
    "        :return: {'real_input': real_data, 'noise_input': noise},\n",
    "                 {'real_output': real_output, 'fake_output': fake_output}\n",
    "        \"\"\"\n",
    "        if self.noise_only:\n",
    "            # blank data\n",
    "            real_data = np.zeros((self.batch_size,)+self.x_train.shape[1:])\n",
    "            real_output = np.zeros(self.batch_size)\n",
    "            real_output = to_categorical(real_output, num_classes=self.n_classes)\n",
    "        else:\n",
    "            real_data = self.x_train[index:(index+self.batch_size), :, :]\n",
    "            real_output = self.y_train[index:(index+self.batch_size), :]\n",
    "        \n",
    "        noise = np.random.uniform(-1.0, 1.0, size=(self.batch_size, 100))\n",
    "        fake_output = np.random.randint(self.n_classes, size=100)\n",
    "        fake_output = to_categorical(fake_output, num_classes=self.n_classes)\n",
    "        \n",
    "        return {'real_input': real_data, 'noise_input': noise}, {'real_output': real_output, 'fake_output': fake_output}\n",
    "    \n",
    "    def on_epoch_end(self):\n",
    "        pass"
   ]
  },
  {
   "cell_type": "code",
   "execution_count": 27,
   "metadata": {},
   "outputs": [
    {
     "name": "stdout",
     "output_type": "stream",
     "text": [
      "real_input (16, 28, 28)\n",
      "noise_input (16, 100)\n",
      "real_output (16, 10)\n",
      "fake_output (100, 10)\n"
     ]
    }
   ],
   "source": [
    "mnist_gen = MNISTDataGenerator(n_classes=10)\n",
    "x, y = mnist_gen[0]\n",
    "for key in x:\n",
    "    print(key, x[key].shape)\n",
    "for key in y:\n",
    "    print(key, y[key].shape)"
   ]
  },
  {
   "cell_type": "code",
   "execution_count": 25,
   "metadata": {},
   "outputs": [
    {
     "name": "stdout",
     "output_type": "stream",
     "text": [
      "real_input (16, 28, 28)\n",
      "noise_input (16, 100)\n",
      "real_output (16, 10)\n",
      "fake_output (100, 10)\n"
     ]
    },
    {
     "data": {
      "text/plain": [
       "False"
      ]
     },
     "execution_count": 25,
     "metadata": {},
     "output_type": "execute_result"
    }
   ],
   "source": [
    "mnist_gen.noise_only = False\n",
    "x, y = mnist_gen[0]\n",
    "for key in x:\n",
    "    print(key, x[key].shape)\n",
    "for key in y:\n",
    "    print(key, y[key].shape)\n",
    "\n",
    "np.all(x['real_input'] == np.zeros((28, 28)))"
   ]
  },
  {
   "cell_type": "code",
   "execution_count": null,
   "metadata": {},
   "outputs": [],
   "source": []
  }
 ],
 "metadata": {
  "kernelspec": {
   "display_name": "Python 3",
   "language": "python",
   "name": "python3"
  },
  "language_info": {
   "codemirror_mode": {
    "name": "ipython",
    "version": 3
   },
   "file_extension": ".py",
   "mimetype": "text/x-python",
   "name": "python",
   "nbconvert_exporter": "python",
   "pygments_lexer": "ipython3",
   "version": "3.6.8"
  }
 },
 "nbformat": 4,
 "nbformat_minor": 2
}
